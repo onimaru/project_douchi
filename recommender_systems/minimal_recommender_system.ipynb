{
 "cells": [
  {
   "cell_type": "code",
   "execution_count": 1,
   "id": "be85f6c9-05e4-4e17-abfc-5e40e06b34fb",
   "metadata": {
    "tags": []
   },
   "outputs": [],
   "source": [
    "import pandas as pd\n",
    "import numpy as np\n",
    "import re\n",
    "import unicodedata\n",
    "from sklearn.preprocessing import MinMaxScaler\n",
    "from sklearn.feature_extraction.text import TfidfVectorizer, HashingVectorizer, CountVectorizer\n",
    "from sklearn.neighbors import NearestNeighbors\n",
    "from sklearn.metrics import euclidean_distances\n",
    "from IPython.display import display, Markdown"
   ]
  },
  {
   "cell_type": "code",
   "execution_count": 2,
   "id": "5827311b-e1d1-4011-bcbd-ca3ff77c0c8f",
   "metadata": {
    "tags": []
   },
   "outputs": [],
   "source": [
    "df_ = pd.read_csv(\"/home/ninja/Dropbox/datasets/netflix/netflix_titles.csv\")"
   ]
  },
  {
   "cell_type": "code",
   "execution_count": 5,
   "id": "c4451e22-f191-453b-be5c-c9c6d25fa75f",
   "metadata": {
    "tags": []
   },
   "outputs": [],
   "source": [
    "def remove_stopwords(x):\n",
    "    return \" \".join([word for word in str(x).split() if word not in stopwords])\n",
    "\n",
    "def strip_accents(s):\n",
    "    return ''.join(c for c in unicodedata.normalize('NFKD', s)).encode('ascii', 'ignore').decode(\"utf-8\")\n",
    "\n",
    "def normalize(x, remove_accents=True):\n",
    "    if x != None:\n",
    "        x = str(x).lower()\n",
    "        if remove_accents:\n",
    "            x = strip_accents(x)\n",
    "        x = remove_stopwords(x.lower())\n",
    "        x = re.sub(r'[\\-%+&|{}()\\[\\]^\\'\\\"~*?:\\\\/!]', \" \", x)\n",
    "        x = re.sub(r'\\s+', ' ', x).strip()\n",
    "        return x\n",
    "    else: return None\n",
    "\n",
    "def get_duration_type(x):\n",
    "    x = x.split(\" \")[-1]\n",
    "    if \"season\" in x:\n",
    "        return \"s\"\n",
    "    elif \"min\" in x:\n",
    "        return \"m\"\n",
    "    else:\n",
    "        return \"\"\n",
    "\n",
    "def _compute_embedding_matrix(df,vectorizer,tfidf_params):\n",
    "    df = df.fillna(\"\")\n",
    "    X = vectorizer.fit_transform(df)\n",
    "    tfidf_params[\"embedder\"] = vectorizer\n",
    "    return X.toarray()\n",
    "\n",
    "def train_embedding_matrix(tfidf_params,tfidf_cols,df):\n",
    "    Xs = []\n",
    "    for item in tfidf_cols:\n",
    "        Xs += [_compute_embedding_matrix(\n",
    "            df[item],\n",
    "            tfidf_params[item][\"vectorizer\"](\n",
    "                max_features=tfidf_params[item][\"max_features\"]\n",
    "            ),\n",
    "            tfidf_params[item]\n",
    "        )]\n",
    "    \n",
    "    Xs += [df[\"type\"].values.reshape(-1,1)]\n",
    "    Xs += [pd.get_dummies(df[\"rating\"]).values[:,1:]]\n",
    "    Xs += [pd.get_dummies(df[\"n_countries\"]).values[:,1:]]\n",
    "\n",
    "    return np.concatenate(Xs,axis=1)\n",
    "\n",
    "def find_item_by_title(name,df,n=10):\n",
    "    display(df[df[\"title\"].str.contains(name)][\"title\"].iloc[:n].to_dict())\n",
    "\n",
    "def recomend_by_id(idx,df):\n",
    "    recommended_ids = model.kneighbors(X[input_id].reshape(1,-1),return_distance=False)[0].tolist()[1:]\n",
    "    display(df.iloc[recommended_ids][tfidf_cols])\n",
    "\n",
    "def get_recommendations_from_inputs(input_ids,df):\n",
    "    recommendations_dict = {}\n",
    "    for idx in input_ids:\n",
    "        recommended_ids = model.kneighbors(X[idx].reshape(1,-1),return_distance=False)[0].tolist()\n",
    "        x = df.iloc[recommended_ids][\"title\"].tolist()\n",
    "        recommendations_dict[x[0]] = x[1:]\n",
    "    return recommendations_dict\n",
    "\n",
    "def display_recommendations(input_ids,df):\n",
    "    recommendations_dict = get_recommendations_from_inputs(input_ids,df)\n",
    "    msg = '| input | rec 01 | rec 02 | rec 03 | rec 04 | rec 05 | rec 06 | rec 07 | rec 08 | rec 09 |\\n'\n",
    "    msg += '| --- | --- | --- | --- | --- | --- | --- | --- | --- | --- |\\n'\n",
    "    for input_x, recs in recommendations_dict.items():\n",
    "        msg += f\"| **{input_x}** |{'|'.join(recs)}|\\n\"\n",
    "\n",
    "    display(Markdown(msg))\n",
    "    \n",
    "def find_item_by_title_token(name,df,n=10):\n",
    "    return df[df[\"title\"].str.contains(name)][\"title\"].iloc[:n].to_dict()\n",
    "\n",
    "def show_recommendations(title_token,df):\n",
    "    retrieved_items = find_item_by_title_token(title_token,df,n=20)\n",
    "    display_recommendations(list(retrieved_items.keys()),df)"
   ]
  },
  {
   "cell_type": "code",
   "execution_count": 9,
   "id": "71afa9b0-df5c-49f7-9d09-87234e974243",
   "metadata": {
    "tags": []
   },
   "outputs": [],
   "source": [
    "# df_ = df.copy()\n",
    "obj_cols = [item for item in df_.columns if df_[item].dtype == \"O\"]\n",
    "tfidf_cols = [\"title\",\"director\",\"cast\",\"country\",\"listed_in\",\"description\"]\n",
    "tfidf_params = {\n",
    "    \"title\":{\n",
    "        \"vectorizer\":TfidfVectorizer,\n",
    "        \"max_features\":150,\n",
    "    },\n",
    "    \"director\":{\n",
    "        \"vectorizer\":CountVectorizer,\n",
    "        \"max_features\":100,\n",
    "    },\n",
    "    \"cast\":{\n",
    "        \"vectorizer\":CountVectorizer,\n",
    "        \"max_features\":200,\n",
    "    },\n",
    "    \"country\":{\n",
    "        \"vectorizer\":CountVectorizer,\n",
    "        \"max_features\":30,\n",
    "    },\n",
    "    \"listed_in\":{\n",
    "        \"vectorizer\":CountVectorizer,\n",
    "        \"max_features\":30,\n",
    "    },\n",
    "    \"description\":{\n",
    "        \"vectorizer\":TfidfVectorizer,\n",
    "        \"max_features\":200,\n",
    "    }\n",
    "}\n",
    "categorical_cols = [\"type\",\"rating\",\"n_countries\"]\n",
    "minmax_cols = [\"release_year\"]\n",
    "drop_cols = [\"date_added\",\"duration_type\",\"show_id\"]\n",
    "stopwords = []\n",
    "\n",
    "for item in obj_cols:\n",
    "    df_[item] = df_[item].apply(normalize)\n",
    "\n",
    "df_[\"duration_type\"] = df_[\"duration\"].apply(get_duration_type)\n",
    "df_[\"duration\"] = df_[\"duration\"].apply(lambda x: x.split(\" \")[0])\n",
    "df_[\"type\"] = df_[\"type\"].apply(lambda x: 1 if x == \"movie\" else 0)\n",
    "df_[\"n_countries\"] = df_[\"country\"].apply(lambda x: len(x.split(\" \")) if len(x.split(\" \")) < 3 else 3)\n",
    "df_ = df_[df_[\"rating\"].isin([\"tv ma\",\"tv 14\",\"tv pg\",\"r\",\"pg 13\"])]\n",
    "df_ = df_[(~df_[\"title\"].isna())&(df_[\"title\"]!=\"\")].reset_index()\n",
    "df_.drop(drop_cols,axis=1,inplace=True)"
   ]
  },
  {
   "cell_type": "code",
   "execution_count": 10,
   "id": "8c878bda-f7b8-4af3-bf16-cf06d61c6b3b",
   "metadata": {
    "tags": []
   },
   "outputs": [],
   "source": [
    "X = train_embedding_matrix(tfidf_params,tfidf_cols,df_)"
   ]
  },
  {
   "cell_type": "code",
   "execution_count": 14,
   "id": "356a0dcc-3878-4c85-bf38-10224a65bd6c",
   "metadata": {
    "tags": []
   },
   "outputs": [
    {
     "data": {
      "text/html": [
       "<style>#sk-container-id-1 {color: black;background-color: white;}#sk-container-id-1 pre{padding: 0;}#sk-container-id-1 div.sk-toggleable {background-color: white;}#sk-container-id-1 label.sk-toggleable__label {cursor: pointer;display: block;width: 100%;margin-bottom: 0;padding: 0.3em;box-sizing: border-box;text-align: center;}#sk-container-id-1 label.sk-toggleable__label-arrow:before {content: \"▸\";float: left;margin-right: 0.25em;color: #696969;}#sk-container-id-1 label.sk-toggleable__label-arrow:hover:before {color: black;}#sk-container-id-1 div.sk-estimator:hover label.sk-toggleable__label-arrow:before {color: black;}#sk-container-id-1 div.sk-toggleable__content {max-height: 0;max-width: 0;overflow: hidden;text-align: left;background-color: #f0f8ff;}#sk-container-id-1 div.sk-toggleable__content pre {margin: 0.2em;color: black;border-radius: 0.25em;background-color: #f0f8ff;}#sk-container-id-1 input.sk-toggleable__control:checked~div.sk-toggleable__content {max-height: 200px;max-width: 100%;overflow: auto;}#sk-container-id-1 input.sk-toggleable__control:checked~label.sk-toggleable__label-arrow:before {content: \"▾\";}#sk-container-id-1 div.sk-estimator input.sk-toggleable__control:checked~label.sk-toggleable__label {background-color: #d4ebff;}#sk-container-id-1 div.sk-label input.sk-toggleable__control:checked~label.sk-toggleable__label {background-color: #d4ebff;}#sk-container-id-1 input.sk-hidden--visually {border: 0;clip: rect(1px 1px 1px 1px);clip: rect(1px, 1px, 1px, 1px);height: 1px;margin: -1px;overflow: hidden;padding: 0;position: absolute;width: 1px;}#sk-container-id-1 div.sk-estimator {font-family: monospace;background-color: #f0f8ff;border: 1px dotted black;border-radius: 0.25em;box-sizing: border-box;margin-bottom: 0.5em;}#sk-container-id-1 div.sk-estimator:hover {background-color: #d4ebff;}#sk-container-id-1 div.sk-parallel-item::after {content: \"\";width: 100%;border-bottom: 1px solid gray;flex-grow: 1;}#sk-container-id-1 div.sk-label:hover label.sk-toggleable__label {background-color: #d4ebff;}#sk-container-id-1 div.sk-serial::before {content: \"\";position: absolute;border-left: 1px solid gray;box-sizing: border-box;top: 0;bottom: 0;left: 50%;z-index: 0;}#sk-container-id-1 div.sk-serial {display: flex;flex-direction: column;align-items: center;background-color: white;padding-right: 0.2em;padding-left: 0.2em;position: relative;}#sk-container-id-1 div.sk-item {position: relative;z-index: 1;}#sk-container-id-1 div.sk-parallel {display: flex;align-items: stretch;justify-content: center;background-color: white;position: relative;}#sk-container-id-1 div.sk-item::before, #sk-container-id-1 div.sk-parallel-item::before {content: \"\";position: absolute;border-left: 1px solid gray;box-sizing: border-box;top: 0;bottom: 0;left: 50%;z-index: -1;}#sk-container-id-1 div.sk-parallel-item {display: flex;flex-direction: column;z-index: 1;position: relative;background-color: white;}#sk-container-id-1 div.sk-parallel-item:first-child::after {align-self: flex-end;width: 50%;}#sk-container-id-1 div.sk-parallel-item:last-child::after {align-self: flex-start;width: 50%;}#sk-container-id-1 div.sk-parallel-item:only-child::after {width: 0;}#sk-container-id-1 div.sk-dashed-wrapped {border: 1px dashed gray;margin: 0 0.4em 0.5em 0.4em;box-sizing: border-box;padding-bottom: 0.4em;background-color: white;}#sk-container-id-1 div.sk-label label {font-family: monospace;font-weight: bold;display: inline-block;line-height: 1.2em;}#sk-container-id-1 div.sk-label-container {text-align: center;}#sk-container-id-1 div.sk-container {/* jupyter's `normalize.less` sets `[hidden] { display: none; }` but bootstrap.min.css set `[hidden] { display: none !important; }` so we also need the `!important` here to be able to override the default hidden behavior on the sphinx rendered scikit-learn.org. See: https://github.com/scikit-learn/scikit-learn/issues/21755 */display: inline-block !important;position: relative;}#sk-container-id-1 div.sk-text-repr-fallback {display: none;}</style><div id=\"sk-container-id-1\" class=\"sk-top-container\"><div class=\"sk-text-repr-fallback\"><pre>NearestNeighbors(leaf_size=1000, n_neighbors=10, radius=2.0)</pre><b>In a Jupyter environment, please rerun this cell to show the HTML representation or trust the notebook. <br />On GitHub, the HTML representation is unable to render, please try loading this page with nbviewer.org.</b></div><div class=\"sk-container\" hidden><div class=\"sk-item\"><div class=\"sk-estimator sk-toggleable\"><input class=\"sk-toggleable__control sk-hidden--visually\" id=\"sk-estimator-id-1\" type=\"checkbox\" checked><label for=\"sk-estimator-id-1\" class=\"sk-toggleable__label sk-toggleable__label-arrow\">NearestNeighbors</label><div class=\"sk-toggleable__content\"><pre>NearestNeighbors(leaf_size=1000, n_neighbors=10, radius=2.0)</pre></div></div></div></div></div>"
      ],
      "text/plain": [
       "NearestNeighbors(leaf_size=1000, n_neighbors=10, radius=2.0)"
      ]
     },
     "execution_count": 14,
     "metadata": {},
     "output_type": "execute_result"
    }
   ],
   "source": [
    "model = NearestNeighbors(n_neighbors=10,leaf_size=1000,radius=2.0)\n",
    "model.fit(X)"
   ]
  },
  {
   "cell_type": "code",
   "execution_count": 7,
   "id": "735e5df9-6ac7-4e54-a60f-d74d03a83d6f",
   "metadata": {},
   "outputs": [],
   "source": [
    "# import pickle\n",
    "\n",
    "# pickle.dump( model, open( \"model.pickle\", \"wb\" ) )\n",
    "# model = pickle.load( open( \"model.pickle\", \"rb\" ) )\n",
    "# df_.to_csv(\"/home/ninja/Dropbox/ml/recommender_systems/netflix/streamlit/normalized_netflix.csv\",index=None)\n",
    "# np.save(\"/home/ninja/Dropbox/ml/recommender_systems/netflix/streamlit/features_space.npy\", X)"
   ]
  },
  {
   "cell_type": "code",
   "execution_count": 11,
   "id": "da1a2dc0-ede4-4bf8-9c5f-ef661eeaf922",
   "metadata": {},
   "outputs": [
    {
     "data": {
      "text/plain": [
       "{4508: '1922'}"
      ]
     },
     "metadata": {},
     "output_type": "display_data"
    }
   ],
   "source": [
    "find_item_by_title(\"1922\",df_,n=20)\n",
    "input_dict = {\n",
    "    \"dark\":1930,\n",
    "    \"elite\":566,\n",
    "    \"sabrina\":1225,\n",
    "    \"umbrella-academy\":1810,\n",
    "    \"altered-carbon\":2402,\n",
    "    \"altered-carbon-resleeved\":2338,\n",
    "    \"after-life\":2204,\n",
    "    \"one-punch-man\":4830,\n",
    "    \"locke-key\":2461,\n",
    "    \"hill-house\":3881,\n",
    "    \"marianne\":2966,\n",
    "    \"monday\":4610,\n",
    "    \"1922\":4508\n",
    "}"
   ]
  },
  {
   "cell_type": "code",
   "execution_count": 17,
   "id": "4c2e48cb-50a2-4dc3-a5a1-39494dc8fd78",
   "metadata": {},
   "outputs": [
    {
     "data": {
      "text/markdown": [
       "| input | rec 01 | rec 02 | rec 03 | rec 04 | rec 05 | rec 06 | rec 07 | rec 08 | rec 09 |\n",
       "| --- | --- | --- | --- | --- | --- | --- | --- | --- | --- |\n",
       "| **dark skies** |sweetheart|dark light|await further instructions|assimilate|snervous tyler oakley|tremors 4 the legend begins|f.r.e.d.i.|tau|wildling|\n",
       "| **resident evil infinite darkness** |cannon busters|kengan ashura|haunted|equinox|kabaneri of the iron fortress the battle of unato|ultraman|sirius the jaeger|santa clarita diet|parasyte the maxim|\n",
       "| **trese after dark** |jugaad|audrey|i dream of dance|operation odessa|9to5 the story of a movement|black holes the edge of all we know|creating an army of the dead|fishpeople|chef s table france|\n",
       "| **the sons of sam a descent into darkness** |cocaine cowboys the kings of miami|the pharmacist|the trials of gabriel fernandez|the innocence files|drug lords|night stalker the hunt for a serial killer|dope|evil genius|crime scene the vanishing at the cecil hotel|\n",
       "| **the darkest hour** |dragonheart 3 the sorcerer|jupiter ascending|left behind|singularity|the lord of the rings the return of the king|stargate|the signal|incoming|hardcore henry|\n",
       "| **dark city beneath the beat** |residente|trixie mattel moving parts|clarence clemons who do i think i am|woodstock|shawn mendes in wonder|the remix hip hop x fashion|lil peep everybodys everything|once in a lifetime sessions with noel gallagher|bikram yogi, guru, predator|\n",
       "| **dark forces** |romina|the golem|rakkhosh|sinister circle|the maus|rencor tatuado|veronica|munafik 2|nang nak|\n",
       "| **we summon the darkness** |polaroid|concrete cowboy|unfriended|case 39|in the deep|the strangers prey at night|american honey|candyman|sinister 2|\n",
       "| **in the dark** |trinkets|unsolved|somewhere between|frequency|battle creek|women behind bars|footprints in the sand|everything sucks|scandal|\n",
       "| **dark desire** |tijuana|elite|hache|la casa de papel|apaches|dandy|somos.|monzon a knockout blow|you cannot hide|\n",
       "| **dark** |the woods|1983|ultraviolet|babylon berlin|sakho mangane|case|criminal france|deadwind|warrior|\n",
       "| **dark waters** |cairo station|the blazing sun|amar s hands|alexandria ... why|step outside|flimflam|beirut oh beirut|komola rocket|the emigrant|\n",
       "| **the darkness** |the detained|14 cameras|the haunting of molly hartley|terrifier|the ring|clinical|the hurt business|the witch files|desolation|\n",
       "| **light in the dark** |road to yesterday|in line|catch.er|black rose|the bling lagosians|gagarin first in space|namaste wahala|the island|wives on strike|\n",
       "| **dark light** |wildling|1st summoning|dark skies|st. agatha|twinsanity|cam|haunting on fraternity row|await further instructions|creep 2|\n",
       "| **night on earth shot in the dark** |night on earth|diana in her own words|derren brown the push|influx|elizabeth and margaret love and loyalty|89|flinch|jackie a tale of two sisters|derren brown miracle|\n",
       "| **monsters dark continent** |superfly|au coeur des gangs|into the wild|strange weather|monsoon|enola holmes|moonlight|paid in full|contract|\n",
       "| **the crystal calls making the dark crystal age of resistance** |secrets of althorp the spencers|secrets of highclere castle|we, the marines|secrets of chatsworth|snervous tyler oakley|mitt|stealing history|zion|the memphis belle a story of a flying fortress|\n",
       "| **the dark crystal age of resistance** |lost in space|the shannara chronicles|sweet tooth|dreamworks how to train your dragon legends|hit run|raising dion|the umbrella academy|the 4400|star trek the next generation|\n",
       "| **hikaru utada laughter in the dark tour 2018** |theeya velai seyyanum kumaru|nasha natasha|minsara kanavu|gen hoshino stadium tour pop virus|takizawa kabuki zero 2020 the movie|amrapali|dtc yukemuri junjo hen from high low|maine pyar kiya|k on the movie|\n"
      ],
      "text/plain": [
       "<IPython.core.display.Markdown object>"
      ]
     },
     "metadata": {},
     "output_type": "display_data"
    }
   ],
   "source": [
    "show_recommendations(\"dark\",df_)"
   ]
  },
  {
   "cell_type": "code",
   "execution_count": null,
   "id": "671d80a3-0f39-497f-b9b8-8b4264eb48d7",
   "metadata": {},
   "outputs": [],
   "source": [
    "# input_ids = [5163,1930,402,7187,484,6882,1207,647]\n",
    "input_ids = list(input_dict.values())\n",
    "display_reccomendations(input_ids)"
   ]
  },
  {
   "cell_type": "code",
   "execution_count": null,
   "id": "7a5e7539-3e36-4ec9-9cd5-a738ec566ad5",
   "metadata": {},
   "outputs": [],
   "source": [
    "input_id = 1930 # dark\n",
    "recomend_by_id(input_id)"
   ]
  },
  {
   "cell_type": "code",
   "execution_count": 93,
   "id": "b40b0881-20c3-4dcb-bf03-56e9337500bc",
   "metadata": {},
   "outputs": [
    {
     "name": "stderr",
     "output_type": "stream",
     "text": [
      "/home/ninja/anaconda3/lib/python3.8/site-packages/IPython/core/interactiveshell.py:3457: DtypeWarning: Columns (4,5) have mixed types.Specify dtype option on import or set low_memory=False.\n",
      "  exec(code_obj, self.user_global_ns, self.user_ns)\n"
     ]
    }
   ],
   "source": [
    "imdb_df = pd.read_table(\"/home/ninja/Dropbox/datasets/netflix/title.basics.tsv\")\n",
    "# imdb_df2 = pd.read_table(\"/home/ninja/Dropbox/datasets/netflix/title.ratings.tsv\")"
   ]
  },
  {
   "cell_type": "code",
   "execution_count": 87,
   "id": "d07b40b4-8163-4294-948e-a5068c2ae4fa",
   "metadata": {},
   "outputs": [],
   "source": [
    "imdb_df[\"originalTitle\"] = imdb_df[\"originalTitle\"].apply(normalize)"
   ]
  },
  {
   "cell_type": "code",
   "execution_count": 88,
   "id": "a22fe22a-18cd-4fcb-81f6-fbbc7ab34936",
   "metadata": {},
   "outputs": [],
   "source": [
    "net_titles = df_[\"title\"].drop_duplicates().tolist()"
   ]
  },
  {
   "cell_type": "code",
   "execution_count": 91,
   "id": "a52efb97-0092-45ac-87a8-9306ab32ee29",
   "metadata": {},
   "outputs": [
    {
     "data": {
      "text/plain": [
       "alone                             388\n",
       "the gift                          386\n",
       "the end                           385\n",
       "love                              361\n",
       "the interview                     353\n",
       "                                 ... \n",
       "monsters dark continent             1\n",
       "house party 3                       1\n",
       "ouran high school host club         1\n",
       "andaz apna apna                     1\n",
       "bangkok love stories innocence      1\n",
       "Name: originalTitle, Length: 6112, dtype: int64"
      ]
     },
     "execution_count": 91,
     "metadata": {},
     "output_type": "execute_result"
    }
   ],
   "source": [
    "imdb_df[imdb_df[\"originalTitle\"].isin(net_titles)][\"originalTitle\"].value_counts()"
   ]
  },
  {
   "cell_type": "code",
   "execution_count": 105,
   "id": "6102c047-667c-43f7-a657-f1e0d0f91e2b",
   "metadata": {
    "tags": []
   },
   "outputs": [],
   "source": [
    "imdb_df = imdb_df[(imdb_df[\"startYear\"]!=\"\\\\N\")]\n",
    "imdb_df[\"startYear\"] = imdb_df[\"startYear\"].astype(int)\n",
    "imdb_df = imdb_df[(imdb_df[\"startYear\"]>= 2002)]"
   ]
  },
  {
   "cell_type": "code",
   "execution_count": 106,
   "id": "c84d8ee8-67f8-4dae-ab70-a64ec1deff93",
   "metadata": {},
   "outputs": [
    {
     "data": {
      "text/plain": [
       "(5452248, 9)"
      ]
     },
     "execution_count": 106,
     "metadata": {},
     "output_type": "execute_result"
    }
   ],
   "source": [
    "imdb_df.shape"
   ]
  },
  {
   "cell_type": "code",
   "execution_count": 107,
   "id": "e51f4f5f-ebc4-4ad6-8669-1722c4245b01",
   "metadata": {},
   "outputs": [
    {
     "data": {
      "text/plain": [
       "array(['movie', 'short', 'tvMovie', 'tvEpisode', 'video', 'tvSeries',\n",
       "       'videoGame', 'tvMiniSeries', 'tvShort', 'tvSpecial', 'tvPilot'],\n",
       "      dtype=object)"
      ]
     },
     "execution_count": 107,
     "metadata": {},
     "output_type": "execute_result"
    }
   ],
   "source": [
    "imdb_df[\"titleType\"].unique()"
   ]
  },
  {
   "cell_type": "code",
   "execution_count": 108,
   "id": "b71ea52f-e1fd-4345-a5c4-de7b9169048a",
   "metadata": {},
   "outputs": [
    {
     "data": {
      "text/plain": [
       "(4791117, 9)"
      ]
     },
     "execution_count": 108,
     "metadata": {},
     "output_type": "execute_result"
    }
   ],
   "source": [
    "imdb_df[~imdb_df[\"titleType\"].isin([\"short\",\"tvShort\",\"tvPilot\",\"tvSpecial\",\"videoGame\"])].shape"
   ]
  }
 ],
 "metadata": {
  "kernelspec": {
   "display_name": "Python 3 (ipykernel)",
   "language": "python",
   "name": "python3"
  },
  "language_info": {
   "codemirror_mode": {
    "name": "ipython",
    "version": 3
   },
   "file_extension": ".py",
   "mimetype": "text/x-python",
   "name": "python",
   "nbconvert_exporter": "python",
   "pygments_lexer": "ipython3",
   "version": "3.10.0"
  }
 },
 "nbformat": 4,
 "nbformat_minor": 5
}
