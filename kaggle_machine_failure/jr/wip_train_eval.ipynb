{
 "cells": [
  {
   "cell_type": "code",
   "execution_count": 1,
   "id": "b032b2b5-1101-4fa4-bcc2-5f4699dbdad4",
   "metadata": {
    "tags": []
   },
   "outputs": [],
   "source": [
    "import numpy as np\n",
    "import pandas as pd\n",
    "from sklearn.metrics  import roc_auc_score\n",
    "from sklearn.ensemble import RandomForestClassifier\n",
    "from sklearn.model_selection import train_test_split"
   ]
  },
  {
   "cell_type": "code",
   "execution_count": 2,
   "id": "fc82420d-7a49-4f7a-97bf-81ced187dbd2",
   "metadata": {
    "tags": []
   },
   "outputs": [],
   "source": [
    "project_path = \"/home/ninja/Dropbox/ml/kaggle/machine_failure\"\n",
    "target_name = \"Machine failure\""
   ]
  },
  {
   "cell_type": "code",
   "execution_count": 3,
   "id": "138635ae-ead3-46c0-b9e7-f72279e16440",
   "metadata": {
    "tags": []
   },
   "outputs": [],
   "source": [
    "data = pd.read_csv(f\"{project_path}/data/processed_train_extra.csv\")"
   ]
  },
  {
   "cell_type": "code",
   "execution_count": 17,
   "id": "988b27b1-91f4-475d-a5ff-9d07dd3a7935",
   "metadata": {
    "tags": []
   },
   "outputs": [
    {
     "data": {
      "text/html": [
       "<div>\n",
       "<style scoped>\n",
       "    .dataframe tbody tr th:only-of-type {\n",
       "        vertical-align: middle;\n",
       "    }\n",
       "\n",
       "    .dataframe tbody tr th {\n",
       "        vertical-align: top;\n",
       "    }\n",
       "\n",
       "    .dataframe thead th {\n",
       "        text-align: right;\n",
       "    }\n",
       "</style>\n",
       "<table border=\"1\" class=\"dataframe\">\n",
       "  <thead>\n",
       "    <tr style=\"text-align: right;\">\n",
       "      <th></th>\n",
       "      <th>Air temperature [K]</th>\n",
       "      <th>Process temperature [K]</th>\n",
       "      <th>Rotational speed [rpm]</th>\n",
       "      <th>Torque [Nm]</th>\n",
       "      <th>Tool wear [min]</th>\n",
       "      <th>type_H</th>\n",
       "      <th>type_L</th>\n",
       "      <th>Machine failure</th>\n",
       "    </tr>\n",
       "  </thead>\n",
       "  <tbody>\n",
       "    <tr>\n",
       "      <th>0</th>\n",
       "      <td>0.395880</td>\n",
       "      <td>-0.246230</td>\n",
       "      <td>0.545416</td>\n",
       "      <td>-0.499711</td>\n",
       "      <td>0.556417</td>\n",
       "      <td>0</td>\n",
       "      <td>1</td>\n",
       "      <td>0</td>\n",
       "    </tr>\n",
       "    <tr>\n",
       "      <th>1</th>\n",
       "      <td>1.469856</td>\n",
       "      <td>1.558605</td>\n",
       "      <td>1.720308</td>\n",
       "      <td>-1.323028</td>\n",
       "      <td>1.494433</td>\n",
       "      <td>0</td>\n",
       "      <td>0</td>\n",
       "      <td>0</td>\n",
       "    </tr>\n",
       "    <tr>\n",
       "      <th>2</th>\n",
       "      <td>-0.302204</td>\n",
       "      <td>-1.040358</td>\n",
       "      <td>2.051873</td>\n",
       "      <td>-1.628831</td>\n",
       "      <td>-1.241447</td>\n",
       "      <td>0</td>\n",
       "      <td>1</td>\n",
       "      <td>0</td>\n",
       "    </tr>\n",
       "    <tr>\n",
       "      <th>3</th>\n",
       "      <td>0.610675</td>\n",
       "      <td>0.692284</td>\n",
       "      <td>0.026445</td>\n",
       "      <td>0.464745</td>\n",
       "      <td>1.447532</td>\n",
       "      <td>0</td>\n",
       "      <td>1</td>\n",
       "      <td>0</td>\n",
       "    </tr>\n",
       "    <tr>\n",
       "      <th>4</th>\n",
       "      <td>-1.000288</td>\n",
       "      <td>-0.679391</td>\n",
       "      <td>0.869773</td>\n",
       "      <td>-0.582043</td>\n",
       "      <td>-1.100744</td>\n",
       "      <td>0</td>\n",
       "      <td>0</td>\n",
       "      <td>0</td>\n",
       "    </tr>\n",
       "    <tr>\n",
       "      <th>...</th>\n",
       "      <td>...</td>\n",
       "      <td>...</td>\n",
       "      <td>...</td>\n",
       "      <td>...</td>\n",
       "      <td>...</td>\n",
       "      <td>...</td>\n",
       "      <td>...</td>\n",
       "      <td>...</td>\n",
       "    </tr>\n",
       "    <tr>\n",
       "      <th>136424</th>\n",
       "      <td>0.127386</td>\n",
       "      <td>1.053251</td>\n",
       "      <td>0.069693</td>\n",
       "      <td>-0.335048</td>\n",
       "      <td>1.650769</td>\n",
       "      <td>0</td>\n",
       "      <td>0</td>\n",
       "      <td>0</td>\n",
       "    </tr>\n",
       "    <tr>\n",
       "      <th>136425</th>\n",
       "      <td>-1.268781</td>\n",
       "      <td>-1.040358</td>\n",
       "      <td>-0.528565</td>\n",
       "      <td>1.029305</td>\n",
       "      <td>-1.601020</td>\n",
       "      <td>1</td>\n",
       "      <td>0</td>\n",
       "      <td>0</td>\n",
       "    </tr>\n",
       "    <tr>\n",
       "      <th>136426</th>\n",
       "      <td>0.342182</td>\n",
       "      <td>1.342025</td>\n",
       "      <td>0.026445</td>\n",
       "      <td>-0.217431</td>\n",
       "      <td>1.713303</td>\n",
       "      <td>0</td>\n",
       "      <td>1</td>\n",
       "      <td>0</td>\n",
       "    </tr>\n",
       "    <tr>\n",
       "      <th>136427</th>\n",
       "      <td>0.986567</td>\n",
       "      <td>0.692284</td>\n",
       "      <td>-0.528565</td>\n",
       "      <td>0.699979</td>\n",
       "      <td>-0.975676</td>\n",
       "      <td>0</td>\n",
       "      <td>1</td>\n",
       "      <td>0</td>\n",
       "    </tr>\n",
       "    <tr>\n",
       "      <th>136428</th>\n",
       "      <td>-1.590974</td>\n",
       "      <td>-1.329132</td>\n",
       "      <td>0.264307</td>\n",
       "      <td>-0.123338</td>\n",
       "      <td>1.947807</td>\n",
       "      <td>0</td>\n",
       "      <td>1</td>\n",
       "      <td>0</td>\n",
       "    </tr>\n",
       "  </tbody>\n",
       "</table>\n",
       "<p>136429 rows × 8 columns</p>\n",
       "</div>"
      ],
      "text/plain": [
       "        Air temperature [K]  Process temperature [K]  Rotational speed [rpm]  \\\n",
       "0                  0.395880                -0.246230                0.545416   \n",
       "1                  1.469856                 1.558605                1.720308   \n",
       "2                 -0.302204                -1.040358                2.051873   \n",
       "3                  0.610675                 0.692284                0.026445   \n",
       "4                 -1.000288                -0.679391                0.869773   \n",
       "...                     ...                      ...                     ...   \n",
       "136424             0.127386                 1.053251                0.069693   \n",
       "136425            -1.268781                -1.040358               -0.528565   \n",
       "136426             0.342182                 1.342025                0.026445   \n",
       "136427             0.986567                 0.692284               -0.528565   \n",
       "136428            -1.590974                -1.329132                0.264307   \n",
       "\n",
       "        Torque [Nm]  Tool wear [min]  type_H  type_L  Machine failure  \n",
       "0         -0.499711         0.556417       0       1                0  \n",
       "1         -1.323028         1.494433       0       0                0  \n",
       "2         -1.628831        -1.241447       0       1                0  \n",
       "3          0.464745         1.447532       0       1                0  \n",
       "4         -0.582043        -1.100744       0       0                0  \n",
       "...             ...              ...     ...     ...              ...  \n",
       "136424    -0.335048         1.650769       0       0                0  \n",
       "136425     1.029305        -1.601020       1       0                0  \n",
       "136426    -0.217431         1.713303       0       1                0  \n",
       "136427     0.699979        -0.975676       0       1                0  \n",
       "136428    -0.123338         1.947807       0       1                0  \n",
       "\n",
       "[136429 rows x 8 columns]"
      ]
     },
     "execution_count": 17,
     "metadata": {},
     "output_type": "execute_result"
    }
   ],
   "source": [
    "data"
   ]
  },
  {
   "cell_type": "code",
   "execution_count": 81,
   "id": "ed974eba-25a0-43ee-a84b-f6f4019a4be4",
   "metadata": {
    "tags": []
   },
   "outputs": [
    {
     "data": {
      "text/plain": [
       "Index(['Air temperature [K]', 'Process temperature [K]',\n",
       "       'Rotational speed [rpm]', 'Torque [Nm]', 'Tool wear [min]', 'type_H',\n",
       "       'type_L', 'Machine failure'],\n",
       "      dtype='object')"
      ]
     },
     "execution_count": 81,
     "metadata": {},
     "output_type": "execute_result"
    }
   ],
   "source": [
    "data.columns"
   ]
  },
  {
   "cell_type": "code",
   "execution_count": 21,
   "id": "857d0174-25d2-4dcd-8d30-adfbd8a0d0e9",
   "metadata": {
    "tags": []
   },
   "outputs": [],
   "source": [
    "cols = ['Air temperature [K]', 'Process temperature [K]',\n",
    "       'Rotational speed [rpm]', 'Torque [Nm]', 'Tool wear [min]']\n",
    "data['0'] = data[cols[0]] / data[cols[1]]\n",
    "data['1'] = data[cols[0]] / data[cols[2]]\n",
    "data['2'] = data[cols[0]] / data[cols[3]]\n",
    "data['3'] = data[cols[0]] / data[cols[4]]\n",
    "data['4'] = data[cols[1]] / data[cols[2]]\n",
    "data['5'] = data[cols[1]] / data[cols[3]]\n",
    "data['6'] = data[cols[1]] / data[cols[4]]\n",
    "data['7'] = data[cols[3]] / data[cols[4]]\n",
    "data['8'] = data[cols[0]]**2\n",
    "data['9'] = data[cols[1]]**2\n",
    "data['10'] = data[cols[2]]**2\n",
    "data['11'] = data[cols[3]]**2\n",
    "data['12'] = data[cols[4]]**2"
   ]
  },
  {
   "cell_type": "code",
   "execution_count": 22,
   "id": "b4c4c8cd-52bd-40f5-aebb-5a0a15d9fc22",
   "metadata": {
    "tags": []
   },
   "outputs": [],
   "source": [
    "X = data.drop('Machine failure',axis=1)\n",
    "y = data['Machine failure']"
   ]
  },
  {
   "cell_type": "code",
   "execution_count": 10,
   "id": "531f5d53-4d40-44aa-8e4d-64ff6eab9bbc",
   "metadata": {},
   "outputs": [],
   "source": [
    "from sklearn.model_selection import cross_val_score\n",
    "from sklearn import svm"
   ]
  },
  {
   "cell_type": "code",
   "execution_count": 8,
   "id": "ec265b64-7bac-4366-85e1-1509cdb15803",
   "metadata": {},
   "outputs": [
    {
     "data": {
      "text/plain": [
       "array([0.49603268, 0.49603263])"
      ]
     },
     "execution_count": 8,
     "metadata": {},
     "output_type": "execute_result"
    }
   ],
   "source": [
    "clf = svm.SVC(kernel='rbf', C=1, random_state=42)\n",
    "scores = cross_val_score(clf, X, y, cv=2, scoring='f1_macro')\n",
    "scores"
   ]
  },
  {
   "cell_type": "code",
   "execution_count": 9,
   "id": "df71f1bd-2139-46f4-aac1-fa6a6f2133c0",
   "metadata": {},
   "outputs": [
    {
     "name": "stdout",
     "output_type": "stream",
     "text": [
      "0.50 accuracy with a standard deviation of 0.00\n"
     ]
    }
   ],
   "source": [
    "print(\"%0.2f accuracy with a standard deviation of %0.2f\" % (scores.mean(), scores.std()))"
   ]
  },
  {
   "cell_type": "code",
   "execution_count": null,
   "id": "3572abe1-1328-47cf-8329-fa6e406807a4",
   "metadata": {},
   "outputs": [],
   "source": []
  },
  {
   "cell_type": "code",
   "execution_count": 23,
   "id": "121b395e-2d4a-43ab-8dc3-c10ff76bb8a2",
   "metadata": {
    "tags": []
   },
   "outputs": [],
   "source": [
    "train_data, test_data = train_test_split(data, test_size = 0.25)"
   ]
  },
  {
   "cell_type": "code",
   "execution_count": 24,
   "id": "98d563d7-1cf9-49bf-bc55-e6e549e1e5c1",
   "metadata": {
    "tags": []
   },
   "outputs": [
    {
     "data": {
      "text/plain": [
       "0    0.98447\n",
       "1    0.01553\n",
       "Name: Machine failure, dtype: float64"
      ]
     },
     "execution_count": 24,
     "metadata": {},
     "output_type": "execute_result"
    }
   ],
   "source": [
    "train_data['Machine failure'].value_counts(normalize=True)"
   ]
  },
  {
   "cell_type": "code",
   "execution_count": 25,
   "id": "7001b3bc-81a6-464b-b900-93e4b258e9cb",
   "metadata": {
    "tags": []
   },
   "outputs": [
    {
     "data": {
      "text/plain": [
       "0    0.983611\n",
       "1    0.016389\n",
       "Name: Machine failure, dtype: float64"
      ]
     },
     "execution_count": 25,
     "metadata": {},
     "output_type": "execute_result"
    }
   ],
   "source": [
    "test_data['Machine failure'].value_counts(normalize=True)"
   ]
  },
  {
   "cell_type": "code",
   "execution_count": 26,
   "id": "769557b7-aac8-4441-a3f9-1fc3ccbf9f62",
   "metadata": {
    "tags": []
   },
   "outputs": [],
   "source": [
    "X_train = train_data.drop(target_name,axis=1)\n",
    "y_train = train_data[target_name]\n",
    "\n",
    "X_test = test_data.drop(target_name,axis=1)\n",
    "y_test = test_data[target_name]"
   ]
  },
  {
   "cell_type": "code",
   "execution_count": 27,
   "id": "2a5a7019-753c-488f-bba5-517ec4a90e3b",
   "metadata": {
    "tags": []
   },
   "outputs": [
    {
     "name": "stdout",
     "output_type": "stream",
     "text": [
      "0.889493614107852\n",
      "0.8853757068333179\n"
     ]
    }
   ],
   "source": [
    "model = RandomForestClassifier(n_estimators=300,n_jobs=-1,max_leaf_nodes=500,min_samples_leaf=6)\n",
    "model.fit(X_train,y_train)\n",
    "\n",
    "y_train_pred = model.predict(X_train)\n",
    "y_test_pred = model.predict(X_test)\n",
    "\n",
    "print(roc_auc_score(y_train,y_train_pred))\n",
    "print(roc_auc_score(y_test,y_test_pred))"
   ]
  },
  {
   "cell_type": "code",
   "execution_count": null,
   "id": "e588302b-2df4-4edc-a490-55bbbe7f3808",
   "metadata": {},
   "outputs": [],
   "source": [
    "0.7117928613459414\n",
    "0.647491094863142"
   ]
  },
  {
   "cell_type": "code",
   "execution_count": null,
   "id": "c4ba991f-e23d-432c-92f6-85f41cc56ee5",
   "metadata": {
    "tags": []
   },
   "outputs": [],
   "source": [
    "# from sklearn.metrics import get_scorer_names\n",
    "# get_scorer_names()"
   ]
  },
  {
   "cell_type": "code",
   "execution_count": 29,
   "id": "0f86d1a2-b604-4fe2-8dc5-d68df2ab59a0",
   "metadata": {},
   "outputs": [
    {
     "data": {
      "text/plain": [
       "array([0.96546718, 0.96121381])"
      ]
     },
     "execution_count": 29,
     "metadata": {},
     "output_type": "execute_result"
    }
   ],
   "source": [
    "clf = RandomForestClassifier(n_estimators=500,n_jobs=-1,max_leaf_nodes=500,min_samples_leaf=6)\n",
    "scores = cross_val_score(clf, X, y, cv=2, scoring='roc_auc')\n",
    "scores"
   ]
  },
  {
   "cell_type": "code",
   "execution_count": null,
   "id": "ceb76ebe-65cf-4f17-a68f-0c470cf944e1",
   "metadata": {},
   "outputs": [],
   "source": [
    "array([0.96550507, 0.96281803])"
   ]
  },
  {
   "cell_type": "code",
   "execution_count": null,
   "id": "007db52d-134e-4bfa-8705-dca02b2332ff",
   "metadata": {
    "tags": []
   },
   "outputs": [],
   "source": [
    "y_train_pred = clf.predict(X_train)\n",
    "y_test_pred = clf.predict(X_test)\n",
    "\n",
    "print(roc_auc_score(y_train,y_train_pred))\n",
    "print(roc_auc_score(y_test,y_test_pred))"
   ]
  },
  {
   "cell_type": "code",
   "execution_count": null,
   "id": "873145ec-afcf-4735-8366-6052e7daa070",
   "metadata": {},
   "outputs": [],
   "source": [
    "array([0.93332583, 0.92702964])"
   ]
  },
  {
   "cell_type": "code",
   "execution_count": 14,
   "id": "1b374ff2-474c-4deb-83b8-8dcb0f3718dd",
   "metadata": {
    "tags": []
   },
   "outputs": [],
   "source": [
    "from sklearn.neighbors import KNeighborsClassifier"
   ]
  },
  {
   "cell_type": "code",
   "execution_count": 15,
   "id": "49ac129d-9dd1-4a8c-929d-bfe9a68efd52",
   "metadata": {
    "tags": []
   },
   "outputs": [
    {
     "name": "stdout",
     "output_type": "stream",
     "text": [
      "0.858039966221052\n",
      "0.8385152117813877\n"
     ]
    }
   ],
   "source": [
    "clf = KNeighborsClassifier(n_neighbors=3,n_jobs=-1)\n",
    "clf.fit(X_train,y_train)\n",
    "\n",
    "y_train_pred = clf.predict(X_train)\n",
    "y_test_pred = clf.predict(X_test)\n",
    "\n",
    "print(roc_auc_score(y_train,y_train_pred))\n",
    "print(roc_auc_score(y_test,y_test_pred))"
   ]
  },
  {
   "cell_type": "code",
   "execution_count": null,
   "id": "83e11707-6e0b-46bd-9ffe-7a9253b5ff5e",
   "metadata": {},
   "outputs": [],
   "source": []
  }
 ],
 "metadata": {
  "kernelspec": {
   "display_name": "Python 3 (ipykernel)",
   "language": "python",
   "name": "python3"
  },
  "language_info": {
   "codemirror_mode": {
    "name": "ipython",
    "version": 3
   },
   "file_extension": ".py",
   "mimetype": "text/x-python",
   "name": "python",
   "nbconvert_exporter": "python",
   "pygments_lexer": "ipython3",
   "version": "3.10.0"
  }
 },
 "nbformat": 4,
 "nbformat_minor": 5
}
