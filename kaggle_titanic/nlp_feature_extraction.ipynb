{
 "cells": [
  {
   "cell_type": "code",
   "execution_count": null,
   "id": "5d28d35e-e35f-4c8b-a291-ecfc23b15d08",
   "metadata": {
    "tags": []
   },
   "outputs": [],
   "source": [
    "import pandas as pd\n",
    "import numpy as np\n",
    "from sklearn.feature_extraction.text import CountVectorizer, TfidfVectorizer"
   ]
  },
  {
   "cell_type": "code",
   "execution_count": null,
   "id": "15264e10-da89-45ff-9e05-ee1431f55f39",
   "metadata": {
    "tags": []
   },
   "outputs": [],
   "source": [
    "home_folder = \"/home/ninja\"\n",
    "data_path = f\"{home_folder}/datasets/titanic\"\n",
    "train_data_df = pd.read_csv(f\"{data_path}/train.csv\")\n",
    "test_data_df = pd.read_csv(f\"{data_path}/test.csv\")\n",
    "gender_data_df = pd.read_csv(f\"{data_path}/gender_submission.csv\")"
   ]
  },
  {
   "cell_type": "markdown",
   "id": "ac997719-741a-468a-b716-d23f9acea2df",
   "metadata": {},
   "source": [
    "### Plano\n",
    "\n",
    "- `PassengerId`: descartar\n",
    "- `Survived`: rótulo, `y`\n",
    "- `Pclass`: fica igual\n",
    "- `Name`: trocar pelas colunas do `bag-of-words`\n",
    "- `Sex`: transformar em binário\n",
    "- `Age`: trocar `NaN` pela média\n",
    "- `SibSp`: fica igual\n",
    "- `Parch`: fica igual\n",
    "- `Ticket`: trocar pelas colunas do `bag-of-words`\n",
    "- `Fare`: transformar em `float`\n",
    "- `Cabin`:\n",
    "- `Embarked`: `one-hot encoding` e excluir os `NaN`"
   ]
  },
  {
   "cell_type": "code",
   "execution_count": null,
   "id": "0a66b456-90e8-416b-bb68-d9861fa68536",
   "metadata": {
    "tags": []
   },
   "outputs": [],
   "source": [
    "def simple_preprocess(df):\n",
    "    df[\"Fare\"] = df[\"Fare\"].astype(float)\n",
    "    df[\"Fare\"] = df[\"Fare\"].fillna(df[\"Fare\"].mean())\n",
    "    \n",
    "    df[\"Age\"] = df[\"Age\"].astype(float)\n",
    "    df[\"Age\"] = df[\"Age\"].fillna(df[\"Age\"].mean())\n",
    "    \n",
    "    df[\"Sex\"] = df[\"Sex\"].apply(lambda x: 1 if x == \"male\" else 0)\n",
    "\n",
    "    df[\"Cabin\"] = df[\"Cabin\"].fillna(\"\")\n",
    "    \n",
    "    df[\"Embarked\"] = df[\"Embarked\"].fillna(\"S\")\n",
    "    df = pd.concat([df,pd.get_dummies(df[\"Embarked\"],prefix=\"embarked\")],axis=1)\n",
    "    return df\n",
    "\n",
    "# bow\n",
    "def _create_bow(df,column,min_df,vectorizer_model):\n",
    "    if vectorizer_model == \"tfidf\":\n",
    "        vectorizer = TfidfVectorizer(\n",
    "             analyzer='word',\n",
    "             ngram_range=(1,1),\n",
    "             max_df=1.0,\n",
    "             min_df=min_df\n",
    "        )\n",
    "    else: \n",
    "        vectorizer = CountVectorizer(\n",
    "             analyzer='word',\n",
    "             ngram_range=(1,1),\n",
    "             max_df=1.0,\n",
    "             min_df=min_df\n",
    "        )\n",
    "    docs = vectorizer.fit_transform(df[column])\n",
    "    bow_df = pd.DataFrame(data=docs.toarray(),columns=vectorizer.get_feature_names_out())\n",
    "    return bow_df\n",
    "\n",
    "def create_bows(df,vectorizer_model):\n",
    "    bow_df = pd.DataFrame()\n",
    "    for column,min_df in zip([\"Name\",\"Ticket\",\"Cabin\"],[1,2,1]):\n",
    "        aux_df = _create_bow(df,column,min_df,vectorizer_model)\n",
    "        bow_df = pd.concat([bow_df,aux_df],axis=1)\n",
    "    return bow_df\n",
    "\n",
    "def _run_preprocess(df,vectorizer_model):\n",
    "    cols_to_drop = [\n",
    "        \"PassengerId\",\n",
    "        \"Name\",\n",
    "        \"Ticket\",\n",
    "        \"Cabin\",\n",
    "        \"Embarked\"\n",
    "    ]\n",
    "    data_df = simple_preprocess(df)\n",
    "    bow_df = create_bows(data_df,vectorizer_model)\n",
    "    data_df = data_df.drop(cols_to_drop,axis=1)\n",
    "    data_df = pd.concat([data_df,bow_df],axis=1)\n",
    "    train_df = data_df[data_df[\"dataset\"]==\"train\"].drop(\"dataset\",axis=1)\n",
    "    test_df = data_df[data_df[\"dataset\"]==\"test\"].drop(\"dataset\",axis=1)\n",
    "    return train_df,test_df\n",
    "\n",
    "def prepare_initial_datasets(train_data_df,test_data_df,gender_data_df):\n",
    "    test_data_df = pd.merge(left=test_data_df,right=gender_data_df,how=\"inner\",on=\"PassengerId\")[train_data_df.columns]\n",
    "    train_data_df[\"dataset\"] = \"train\"\n",
    "    test_data_df[\"dataset\"] = \"test\"\n",
    "    return pd.concat([train_data_df,test_data_df],axis=0).reset_index(drop=True)\n",
    "\n",
    "def run_preprocess(train_data_df,test_data_df,gender_data_df,vectorizer_model=\"tfidf\"):\n",
    "    initial_df = prepare_initial_datasets(train_data_df,test_data_df,gender_data_df)\n",
    "    train_df,test_df = _run_preprocess(initial_df,vectorizer_model)\n",
    "    return train_df,test_df\n",
    "\n",
    "def compute_cm(y_true,y_pred):\n",
    "    return pd.DataFrame(\n",
    "        confusion_matrix(y_true,y_pred),\n",
    "        columns=[\"True negative\",\"True positive\"],\n",
    "        index=[\"Pred. negative\",\"Pred. positive\"]\n",
    "    )"
   ]
  },
  {
   "cell_type": "code",
   "execution_count": null,
   "id": "1871f84a-9b9e-47b0-a0a2-ec2089d6c4e1",
   "metadata": {
    "tags": []
   },
   "outputs": [],
   "source": [
    "train_df,test_df = run_preprocess(train_data_df.copy(),test_data_df.copy(),gender_data_df.copy(),\"count\")"
   ]
  },
  {
   "cell_type": "code",
   "execution_count": null,
   "id": "62b966b6-9c3b-4caa-aa4c-9f09c2bcd957",
   "metadata": {
    "tags": []
   },
   "outputs": [],
   "source": [
    "train_df.shape,test_df.shape"
   ]
  },
  {
   "cell_type": "code",
   "execution_count": null,
   "id": "2666c057-9e81-41a5-a14b-515d5d787781",
   "metadata": {
    "tags": []
   },
   "outputs": [],
   "source": [
    "# sparsity\n",
    "1 - np.count_nonzero(train_df.values)/(train_df.shape[0]*train_df.shape[1])"
   ]
  },
  {
   "cell_type": "markdown",
   "id": "7257df2a-94c0-4462-9aff-c1e588634fe9",
   "metadata": {},
   "source": [
    "### ML"
   ]
  },
  {
   "cell_type": "code",
   "execution_count": null,
   "id": "1ad475ea-cd1b-4770-a8b9-2ec7bdb04a14",
   "metadata": {
    "tags": []
   },
   "outputs": [],
   "source": [
    "from sklearn.ensemble import RandomForestClassifier\n",
    "from sklearn.metrics import classification_report, f1_score, confusion_matrix"
   ]
  },
  {
   "cell_type": "code",
   "execution_count": null,
   "id": "bdd47e09-7175-43c3-9d9b-5c0c22da21f1",
   "metadata": {
    "tags": []
   },
   "outputs": [],
   "source": [
    "numeric_cols = [\n",
    "    'Pclass', 'Sex', 'Age', 'SibSp', 'Parch', 'Fare',\n",
    "    'embarked_C', 'embarked_Q', 'embarked_S'\n",
    "]"
   ]
  },
  {
   "cell_type": "code",
   "execution_count": null,
   "id": "b27b471c-a654-4ee6-8238-46666231d317",
   "metadata": {
    "tags": []
   },
   "outputs": [],
   "source": [
    "model_poor = RandomForestClassifier()\n",
    "\n",
    "X_train = train_df[numeric_cols].copy()\n",
    "y_train = train_df[\"Survived\"].copy()\n",
    "X_test = test_df[numeric_cols].copy()\n",
    "y_test = test_df[\"Survived\"].copy()\n",
    "model_poor.fit(X_train,y_train)\n",
    "\n",
    "print(\"Test\")\n",
    "y_pred = model_poor.predict(X_test)\n",
    "print(classification_report(y_test,y_pred))\n",
    "print(f\"F1 score: {f1_score(y_test,y_pred):.3f}\")\n",
    "compute_cm(y_test,y_pred)"
   ]
  },
  {
   "cell_type": "code",
   "execution_count": null,
   "id": "fe61b7e9-55a0-4bc7-bede-1eff738589ac",
   "metadata": {
    "tags": []
   },
   "outputs": [],
   "source": [
    "model_rich = RandomForestClassifier()\n",
    "\n",
    "X_train = train_df.drop(\"Survived\",axis=1).copy()\n",
    "y_train = train_df[\"Survived\"].copy()\n",
    "X_test = test_df.drop(\"Survived\",axis=1).copy()\n",
    "y_test = test_df[\"Survived\"].copy()\n",
    "model_rich.fit(X_train,y_train)\n",
    "\n",
    "print(\"Test\")\n",
    "y_pred = model_rich.predict(X_test)\n",
    "print(classification_report(y_test,y_pred))\n",
    "print(f\"F1 score: {f1_score(y_test,y_pred):.3f}\")\n",
    "compute_cm(y_test,y_pred)"
   ]
  },
  {
   "cell_type": "markdown",
   "id": "261e1e95-fba8-409b-bffc-672917b613ce",
   "metadata": {},
   "source": [
    "### Tf-Idf"
   ]
  },
  {
   "cell_type": "code",
   "execution_count": null,
   "id": "d35d1b87-7f7f-4946-9c19-f9280b1ea6dd",
   "metadata": {
    "tags": []
   },
   "outputs": [],
   "source": [
    "train_df,test_df = run_preprocess(train_data_df.copy(),test_data_df.copy(),gender_data_df.copy(),\"tfidf\")"
   ]
  },
  {
   "cell_type": "code",
   "execution_count": null,
   "id": "ef98df80-0c81-4a9b-a825-e49c7da1962b",
   "metadata": {
    "tags": []
   },
   "outputs": [],
   "source": [
    "model_poor = RandomForestClassifier()\n",
    "\n",
    "X_train = train_df[numeric_cols].copy()\n",
    "y_train = train_df[\"Survived\"].copy()\n",
    "X_test = test_df[numeric_cols].copy()\n",
    "y_test = test_df[\"Survived\"].copy()\n",
    "model_poor.fit(X_train,y_train)\n",
    "\n",
    "print(\"Test\")\n",
    "y_pred = model_poor.predict(X_test)\n",
    "print(classification_report(y_test,y_pred))\n",
    "print(f\"F1 score: {f1_score(y_test,y_pred):.3f}\")\n",
    "compute_cm(y_test,y_pred)"
   ]
  },
  {
   "cell_type": "code",
   "execution_count": null,
   "id": "8a6c8cb9-2c0c-4323-8a67-0d2793e8ece1",
   "metadata": {
    "tags": []
   },
   "outputs": [],
   "source": [
    "model_rich = RandomForestClassifier()\n",
    "\n",
    "X_train = train_df.drop(\"Survived\",axis=1).copy()\n",
    "y_train = train_df[\"Survived\"].copy()\n",
    "X_test = test_df.drop(\"Survived\",axis=1).copy()\n",
    "y_test = test_df[\"Survived\"].copy()\n",
    "model_rich.fit(X_train,y_train)\n",
    "\n",
    "print(\"Test\")\n",
    "y_pred = model_rich.predict(X_test)\n",
    "print(classification_report(y_test,y_pred))\n",
    "print(f\"F1 score: {f1_score(y_test,y_pred):.3f}\")\n",
    "compute_cm(y_test,y_pred)"
   ]
  },
  {
   "cell_type": "markdown",
   "id": "96d7f39b-3d13-47fe-a1f2-04f5e399708a",
   "metadata": {},
   "source": [
    "## Outras estratégias"
   ]
  },
  {
   "cell_type": "code",
   "execution_count": null,
   "id": "2e6a2a66-28da-4c17-a68f-a17405624973",
   "metadata": {
    "tags": []
   },
   "outputs": [],
   "source": [
    "from sklearn.svm import LinearSVC\n",
    "from sklearn.linear_model import SGDClassifier\n",
    "from sklearn.neighbors import KNeighborsClassifier"
   ]
  },
  {
   "cell_type": "code",
   "execution_count": null,
   "id": "6a312e4a-413a-4e09-8799-c52f4c47e430",
   "metadata": {
    "tags": []
   },
   "outputs": [],
   "source": [
    "def train_models(X_train,y_train):\n",
    "    models = [\n",
    "        LinearSVC(C=0.01,max_iter=10000),\n",
    "        LinearSVC(C=0.1,max_iter=10000),\n",
    "        LinearSVC(C=0.1,max_iter=10000,penalty='l1',dual=False),\n",
    "        SGDClassifier(loss=\"log_loss\",penalty='l1',epsilon=0.01),\n",
    "        SGDClassifier(loss=\"log_loss\",penalty='l1',epsilon=0.1),\n",
    "        KNeighborsClassifier(n_neighbors=2,leaf_size=5,p=1),\n",
    "        KNeighborsClassifier(n_neighbors=2,leaf_size=10,p=1),\n",
    "        KNeighborsClassifier(n_neighbors=3,leaf_size=2,p=1),\n",
    "    ]\n",
    "    trained_models = []\n",
    "    for clf in models:\n",
    "        clf.fit(X_train,y_train)\n",
    "        trained_models.append(clf)\n",
    "    return trained_models\n",
    "\n",
    "def feature_from_preds(trained_models,X):\n",
    "    aux_df = pd.DataFrame()\n",
    "    for i,clf in enumerate(trained_models):\n",
    "        aux_df[f\"clf_{i+1}\"] = clf.predict(X)\n",
    "    return aux_df\n",
    "\n",
    "def eval_model(model,X,y):\n",
    "    y_pred = model.predict(X)\n",
    "    print(f1_score(y,y_pred))"
   ]
  },
  {
   "cell_type": "code",
   "execution_count": null,
   "id": "818a8915-727f-491b-a309-ad21847cac9f",
   "metadata": {
    "tags": []
   },
   "outputs": [],
   "source": [
    "X_train = train_df.drop(\"Survived\",axis=1).copy()\n",
    "y_train = train_df[\"Survived\"].copy()\n",
    "X_test = test_df.drop(\"Survived\",axis=1).copy()\n",
    "y_test = test_df[\"Survived\"].copy()"
   ]
  },
  {
   "cell_type": "code",
   "execution_count": null,
   "id": "17d4a57d-907c-4b1a-84e6-5564f97fbdf2",
   "metadata": {
    "tags": []
   },
   "outputs": [],
   "source": [
    "trained_models = train_models(X_train,y_train)\n",
    "for clf in trained_models:\n",
    "    eval_model(clf,X_test,y_test)"
   ]
  },
  {
   "cell_type": "code",
   "execution_count": null,
   "id": "1be86886-8047-4355-ae1f-3c6007b84c2b",
   "metadata": {
    "tags": []
   },
   "outputs": [],
   "source": [
    "X_train_ = pd.concat([X_train.reset_index(drop=True),feature_from_preds(trained_models[:5],X_train)],axis=1)\n",
    "X_test_ = pd.concat([X_test.reset_index(drop=True),feature_from_preds(trained_models[:5],X_test)],axis=1)"
   ]
  },
  {
   "cell_type": "code",
   "execution_count": null,
   "id": "d1f22b83-c34e-43d2-921d-173f1f64899d",
   "metadata": {
    "tags": []
   },
   "outputs": [],
   "source": [
    "model_rich = RandomForestClassifier()\n",
    "model_rich.fit(X_train_,y_train)\n",
    "\n",
    "print(\"Test\")\n",
    "y_pred = model_rich.predict(X_test_)\n",
    "print(classification_report(y_test,y_pred))\n",
    "print(f\"F1 score: {f1_score(y_test,y_pred):.3f}\")\n",
    "compute_cm(y_test,y_pred)"
   ]
  },
  {
   "cell_type": "code",
   "execution_count": null,
   "id": "5f52f065-f2bb-4eed-8456-e04f5daae881",
   "metadata": {
    "tags": []
   },
   "outputs": [],
   "source": [
    "X_train_ = feature_from_preds(trained_models[:5],X_train)\n",
    "X_test_ = feature_from_preds(trained_models[:5],X_test)"
   ]
  },
  {
   "cell_type": "code",
   "execution_count": null,
   "id": "548e2e2f-3c5d-4aaf-bb11-0e6878e6f832",
   "metadata": {
    "tags": []
   },
   "outputs": [],
   "source": [
    "model_rich = RandomForestClassifier()\n",
    "model_rich.fit(X_train_,y_train)\n",
    "\n",
    "print(\"Test\")\n",
    "y_pred = model_rich.predict(X_test_)\n",
    "print(classification_report(y_test,y_pred))\n",
    "print(f\"F1 score: {f1_score(y_test,y_pred):.3f}\")\n",
    "compute_cm(y_test,y_pred)"
   ]
  },
  {
   "cell_type": "markdown",
   "id": "a8b36618-0e7c-4311-aa63-2585f7d885d4",
   "metadata": {},
   "source": [
    "### Fatorização de matrizes"
   ]
  },
  {
   "cell_type": "code",
   "execution_count": null,
   "id": "095210e4-1a69-4698-a601-dfc95b58de95",
   "metadata": {
    "tags": []
   },
   "outputs": [],
   "source": [
    "from sklearn.decomposition import NMF, MiniBatchNMF, LatentDirichletAllocation"
   ]
  },
  {
   "cell_type": "code",
   "execution_count": null,
   "id": "d168452a-9fe6-4f4f-a029-a205827de056",
   "metadata": {
    "tags": []
   },
   "outputs": [],
   "source": [
    "train_df,test_df = run_preprocess(train_data_df.copy(),test_data_df.copy(),gender_data_df.copy(),\"count\")\n",
    "\n",
    "X_train = train_df.drop(\"Survived\",axis=1).copy()\n",
    "y_train = train_df[\"Survived\"].copy()\n",
    "X_test = test_df.drop(\"Survived\",axis=1).copy()\n",
    "y_test = test_df[\"Survived\"].copy()"
   ]
  },
  {
   "cell_type": "code",
   "execution_count": null,
   "id": "86898f97-5999-4851-be78-5cf663289534",
   "metadata": {
    "tags": []
   },
   "outputs": [],
   "source": [
    "nmf = NMF(\n",
    "    n_components=20,\n",
    "    random_state=1,\n",
    "    init=None,\n",
    "    beta_loss=\"kullback-leibler\",\n",
    "    solver=\"mu\",\n",
    "    max_iter=1000,\n",
    "    alpha_W=0.00005,\n",
    "    alpha_H=0.00005,\n",
    "    l1_ratio=0.1,\n",
    ").fit(X_train)"
   ]
  },
  {
   "cell_type": "code",
   "execution_count": null,
   "id": "375e2af9-ab8b-4496-8dba-f41d5bf27258",
   "metadata": {
    "tags": []
   },
   "outputs": [],
   "source": [
    "X_train_nmf = pd.DataFrame(nmf.transform(X_train),columns=nmf.get_feature_names_out())\n",
    "X_test_nmf = pd.DataFrame(nmf.transform(X_test),columns=nmf.get_feature_names_out())\n",
    "\n",
    "X_train_ = pd.concat([X_train.reset_index(drop=True),X_train_nmf],axis=1)\n",
    "X_test_ = pd.concat([X_test.reset_index(drop=True),X_test_nmf],axis=1)"
   ]
  },
  {
   "cell_type": "code",
   "execution_count": null,
   "id": "ece6c087-5d00-4eab-90df-607b1b5387e7",
   "metadata": {
    "tags": []
   },
   "outputs": [],
   "source": [
    "model_rich = RandomForestClassifier()\n",
    "model_rich.fit(X_train_,y_train)\n",
    "\n",
    "print(\"Test\")\n",
    "y_pred = model_rich.predict(X_test_)\n",
    "print(classification_report(y_test,y_pred))\n",
    "print(f\"F1 score: {f1_score(y_test,y_pred):.3f}\")\n",
    "compute_cm(y_test,y_pred)"
   ]
  },
  {
   "cell_type": "code",
   "execution_count": null,
   "id": "6d2caa79-86c7-4212-962a-8a133ea49037",
   "metadata": {
    "tags": []
   },
   "outputs": [],
   "source": [
    "model_rich = RandomForestClassifier()\n",
    "model_rich.fit(X_train,y_train)\n",
    "\n",
    "print(\"Test\")\n",
    "y_pred = model_rich.predict(X_test)\n",
    "print(classification_report(y_test,y_pred))\n",
    "print(f\"F1 score: {f1_score(y_test,y_pred):.3f}\")\n",
    "compute_cm(y_test,y_pred)"
   ]
  },
  {
   "cell_type": "code",
   "execution_count": null,
   "id": "6fc9ba07-5109-4aae-ac24-61ac6b857211",
   "metadata": {},
   "outputs": [],
   "source": []
  },
  {
   "cell_type": "code",
   "execution_count": null,
   "id": "edb1b23e-7ba9-4a7c-93f8-ccffdf44101f",
   "metadata": {},
   "outputs": [],
   "source": []
  }
 ],
 "metadata": {
  "kernelspec": {
   "display_name": "Python 3 (ipykernel)",
   "language": "python",
   "name": "python3"
  },
  "language_info": {
   "codemirror_mode": {
    "name": "ipython",
    "version": 3
   },
   "file_extension": ".py",
   "mimetype": "text/x-python",
   "name": "python",
   "nbconvert_exporter": "python",
   "pygments_lexer": "ipython3",
   "version": "3.10.0"
  }
 },
 "nbformat": 4,
 "nbformat_minor": 5
}
